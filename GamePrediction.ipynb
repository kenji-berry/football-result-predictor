{
 "cells": [
  {
   "cell_type": "code",
   "execution_count": 1,
   "id": "2ec6df6d-528f-44bc-acc8-3d087097d006",
   "metadata": {},
   "outputs": [],
   "source": [
    "import pandas as panda\n",
    "from sklearn.ensemble import RandomForestClassifier\n",
    "from sklearn.metrics import accuracy_score"
   ]
  },
  {
   "cell_type": "code",
   "execution_count": 2,
   "id": "89a57730-6bd6-4d63-ba33-76e27362e76f",
   "metadata": {},
   "outputs": [],
   "source": [
    "#reads in previously scraped data\n",
    "matchData = panda.read_csv(\"totalMatches.csv\",index_col=0)"
   ]
  },
  {
   "cell_type": "code",
   "execution_count": 4,
   "id": "b9d93cd1-1b07-47cb-b7e5-8bf990c7ee36",
   "metadata": {},
   "outputs": [],
   "source": [
    "#converts date into datetime \n",
    "matchData[\"date\"] = panda.to_datetime(matchData[\"date\"])\n",
    "#0 = away\n",
    "#1 = home\n",
    "matchData[\"homeAway\"] = matchData[\"venue\"].astype(\"category\").cat.codes\n",
    "#gives each team a code\n",
    "matchData[\"teamCode\"] = matchData[\"opponent\"].astype(\"category\").cat.codes\n",
    "#converts the time into an int so that it can be processed by randomforest\n",
    "matchData[\"hour\"] = matchData[\"time\"].str.replace(\":+\", \"\", regex=True).astype(\"int\")\n",
    "#converts the date into a set day of the week\n",
    "matchData[\"dayCode\"] = matchData[\"date\"].dt.dayofweek\n",
    "#convnerts the already kown nresults into numbers for wins, draws and losses\n",
    "matchData[\"predict\"] = (matchData[\"result\"] == \"W\").astype(\"int\")\n",
    "matchData[\"predict\"] += (matchData[\"result\"] == \"W\").astype(\"int\")\n",
    "matchData[\"predict\"] += (matchData[\"result\"] == \"D\").astype(\"int\")"
   ]
  },
  {
   "cell_type": "code",
   "execution_count": 9,
   "id": "f52a98c9",
   "metadata": {},
   "outputs": [],
   "source": [
    "cols = [\"gf\",\"ga\",\"sh\",\"sot\"]\n",
    "newCols = [f\"{c}-Rolling\" for c in cols]"
   ]
  },
  {
   "cell_type": "code",
   "execution_count": 10,
   "id": "e8e27f3b",
   "metadata": {},
   "outputs": [],
   "source": [
    "#function to work calculate the averages of stats\n",
    "def averages(group,cols,newCols):\n",
    "    group = group.sort_values(\"date\")\n",
    "    rollingStats = group[cols].rolling(3,closed=\"left\").mean()\n",
    "    group[newCols] = rollingStats\n",
    "    group = group.dropna(subset=newCols)\n",
    "    return group"
   ]
  },
  {
   "cell_type": "code",
   "execution_count": 11,
   "id": "f82b2a51-826c-49b6-bb53-cd40d68e9a1e",
   "metadata": {},
   "outputs": [],
   "source": [
    "matchesRolling = matchData.groupby(\"team\").apply(lambda x: averages(x,cols,newCols))"
   ]
  },
  {
   "cell_type": "code",
   "execution_count": 12,
   "id": "6422f1bb-e537-43c7-9236-427345787733",
   "metadata": {},
   "outputs": [],
   "source": [
    "#predictors used to help predict result of games\n",
    "predictors = [\"homeAway\",\"teamCode\",\"hour\",\"dayCode\"]"
   ]
  },
  {
   "cell_type": "code",
   "execution_count": 13,
   "id": "7da14c7f-2f3b-40e8-85fe-35265ed358d7",
   "metadata": {},
   "outputs": [],
   "source": [
    "randF = RandomForestClassifier(n_estimators=5000, random_state=1)\n",
    "#number of decision trees\n",
    "#number of samples per leaf of decision tree"
   ]
  },
  {
   "cell_type": "code",
   "execution_count": 14,
   "id": "06be1e71",
   "metadata": {},
   "outputs": [],
   "source": [
    "#more predictors used from new calculates averages\n",
    "cols = [\"ga\",\"sh\"]\n",
    "newCols = [f\"{c}-Rolling\" for c in cols]"
   ]
  },
  {
   "cell_type": "code",
   "execution_count": 15,
   "id": "42ea3205-ec9c-43e0-9ca0-201d8c9fe040",
   "metadata": {},
   "outputs": [],
   "source": [
    "#function to predict the outcome of games, using all of the data provided\n",
    "def makePrediction(matchesRolling,predictors):\n",
    "    train = matchesRolling[matchesRolling[\"date\"] < \"2023-04-01\"]\n",
    "    test = matchesRolling[matchesRolling[\"date\"] > \"2023-04-01\"]\n",
    "    randF.fit(train[predictors],train[\"predict\"])\n",
    "    preds = randF.predict(test[predictors])\n",
    "    combinedData = panda.DataFrame(dict(actual=test[\"predict\"], prediction=preds), index=test.index)\n",
    "    precision = accuracy_score(test[\"predict\"], preds)\n",
    "    return combinedData, precision"
   ]
  },
  {
   "cell_type": "code",
   "execution_count": 16,
   "id": "58b876ad-3ac4-41d3-97bd-3655875989e8",
   "metadata": {},
   "outputs": [],
   "source": [
    "combinedData, precision = makePrediction(matchesRolling, predictors+newCols)"
   ]
  },
  {
   "cell_type": "code",
   "execution_count": 17,
   "id": "eebc76c6-700c-4917-a267-f84d457dd275",
   "metadata": {},
   "outputs": [],
   "source": [
    "precisionPercentage = precision * 100"
   ]
  },
  {
   "cell_type": "code",
   "execution_count": 18,
   "id": "1a57ba3a",
   "metadata": {},
   "outputs": [
    {
     "name": "stdout",
     "output_type": "stream",
     "text": [
      "40.74074074074074 %\n"
     ]
    }
   ],
   "source": [
    "print(precisionPercentage,\"%\")"
   ]
  },
  {
   "cell_type": "code",
   "execution_count": 19,
   "id": "1867030e",
   "metadata": {},
   "outputs": [],
   "source": [
    "combinedData.to_csv(\"predictions.csv\")"
   ]
  }
 ],
 "metadata": {
  "kernelspec": {
   "display_name": "Python 3 (ipykernel)",
   "language": "python",
   "name": "python3"
  },
  "language_info": {
   "codemirror_mode": {
    "name": "ipython",
    "version": 3
   },
   "file_extension": ".py",
   "mimetype": "text/x-python",
   "name": "python",
   "nbconvert_exporter": "python",
   "pygments_lexer": "ipython3",
   "version": "3.11.4"
  }
 },
 "nbformat": 4,
 "nbformat_minor": 5
}
