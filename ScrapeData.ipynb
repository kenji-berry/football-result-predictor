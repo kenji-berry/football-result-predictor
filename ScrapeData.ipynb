{
 "cells": [
  {
   "cell_type": "code",
   "execution_count": 2,
   "id": "38b991be-0ab3-414b-8d37-29e2c7f25e33",
   "metadata": {},
   "outputs": [],
   "source": [
    "import time\n",
    "import requests\n",
    "from bs4 import BeautifulSoup\n",
    "import pandas as panda\n",
    "\n",
    "standingsUrl = \"https://fbref.com/en/comps/25/2022/2022-J1-League-Stats\"\n",
    "data = requests.get(standingsUrl)\n",
    "parsedData = BeautifulSoup(data.text)\n",
    "tableData = parsedData.select(\"table.stats_table\")[0]\n",
    "teamLinks = tableData.find_all(\"a\")\n",
    "links = [link.get(\"href\") for link in teamLinks]\n",
    "linksFiltered = [link for link in links if \"/squads/\" in link]\n",
    "teamUrls = [f\"https://fbref.com/{link}\" for link in linksFiltered]\n",
    "allTeamMatches = []\n",
    "\n",
    "for url in teamUrls:\n",
    "    teamName = url.split(\"/\")[-1].replace(\"-Stats\", \"\")\n",
    "\n",
    "    teamData = requests.get(url)\n",
    "    allMatches = panda.read_html(teamData.text, match=\"Scores & Fixtures\")[0]\n",
    "    allMatches[\"team\"] = url.split(\"/\")[-1].replace(\"-Stats\", \"\")\n",
    "    playedMatches = allMatches[(allMatches.Result.notnull())]\n",
    "\n",
    "    shootingStats = BeautifulSoup(teamData.text)\n",
    "    shootingLinks = shootingStats.find_all(\"a\")\n",
    "    shootingLinks = [link.get(\"href\") for link in shootingLinks]\n",
    "    shootingLinks = [link for link in shootingLinks if link and \"all_comps/shooting/\" in link]\n",
    "    shootingData = requests.get(f\"https://fbref.com{shootingLinks[0]}\")\n",
    "    shooting = panda.read_html(shootingData.text, match=\"Shooting\")[0]\n",
    "    shooting.columns = shooting.columns.droplevel()\n",
    "    \n",
    "    try:\n",
    "        teamData = playedMatches.merge(shooting[[\"Date\", \"Sh\", \"SoT\", \"PK\", \"PKatt\"]], on=\"Date\")\n",
    "    except ValueError:\n",
    "        continue\n",
    "\n",
    "\n",
    "    allTeamMatches.append(teamData)\n",
    "    time.sleep(1)\n",
    "        \n",
    "    "
   ]
  },
  {
   "cell_type": "code",
   "execution_count": 5,
   "id": "cc75c665",
   "metadata": {},
   "outputs": [],
   "source": [
    "matchDataframe = panda.concat(allTeamMatches)\n",
    "matchDataframe.columns = [c.lower() for c in matchDataframe.columns]\n",
    "matchDataframe = matchDataframe.sort_values(by=\"date\", ascending=True)\n",
    "matchDataframe.to_csv(\"matches2022-23.csv\")"
   ]
  },
  {
   "cell_type": "code",
   "execution_count": 6,
   "id": "6f1e1dc1",
   "metadata": {},
   "outputs": [],
   "source": [
    "import time\n",
    "import requests\n",
    "from bs4 import BeautifulSoup\n",
    "import pandas as panda\n",
    "\n",
    "standingsUrl = \"https://fbref.com/en/comps/25/J1-League-Stats\"\n",
    "data = requests.get(standingsUrl)\n",
    "parsedData = BeautifulSoup(data.text)\n",
    "tableData = parsedData.select(\"table.stats_table\")[0]\n",
    "teamLinks = tableData.find_all(\"a\")\n",
    "links = [link.get(\"href\") for link in teamLinks]\n",
    "linksFiltered = [link for link in links if \"/squads/\" in link]\n",
    "teamUrls = [f\"https://fbref.com/{link}\" for link in linksFiltered]\n",
    "allTeamMatches = []\n",
    "\n",
    "for url in teamUrls:\n",
    "    teamName = url.split(\"/\")[-1].replace(\"-Stats\", \"\")\n",
    "\n",
    "    teamData = requests.get(url)\n",
    "    allMatches = panda.read_html(teamData.text, match=\"Scores & Fixtures\")[0]\n",
    "    allMatches[\"team\"] = url.split(\"/\")[-1].replace(\"-Stats\", \"\")\n",
    "    playedMatches = allMatches[(allMatches.Result.notnull())]\n",
    "\n",
    "    shootingStats = BeautifulSoup(teamData.text)\n",
    "    shootingLinks = shootingStats.find_all(\"a\")\n",
    "    shootingLinks = [link.get(\"href\") for link in shootingLinks]\n",
    "    shootingLinks = [link for link in shootingLinks if link and \"all_comps/shooting/\" in link]\n",
    "    shootingData = requests.get(f\"https://fbref.com{shootingLinks[0]}\")\n",
    "    shooting = panda.read_html(shootingData.text, match=\"Shooting\")[0]\n",
    "    shooting.columns = shooting.columns.droplevel()\n",
    "    \n",
    "    try:\n",
    "        teamData = playedMatches.merge(shooting[[\"Date\", \"Sh\", \"SoT\", \"PK\", \"PKatt\"]], on=\"Date\")\n",
    "    except ValueError:\n",
    "        continue\n",
    "\n",
    "\n",
    "    allTeamMatches.append(teamData)\n",
    "    time.sleep(1)\n",
    "        \n",
    "    "
   ]
  },
  {
   "cell_type": "code",
   "execution_count": 7,
   "id": "96962814",
   "metadata": {},
   "outputs": [],
   "source": [
    "matchDataframe = panda.concat(allTeamMatches)\n",
    "matchDataframe.columns = [c.lower() for c in matchDataframe.columns]\n",
    "matchDataframe = matchDataframe.sort_values(by=\"date\", ascending=True)\n",
    "matchDataframe.to_csv(\"matches2023-24.csv\")"
   ]
  },
  {
   "cell_type": "code",
   "execution_count": 8,
   "id": "c020fa4c-8f74-44ec-80eb-08ed8aa4418b",
   "metadata": {},
   "outputs": [],
   "source": [
    "data2022 = panda.read_csv(\"matches2022-23.csv\")"
   ]
  },
  {
   "cell_type": "code",
   "execution_count": 9,
   "id": "df731ebc-261f-4c93-9c22-06bfa04b5a94",
   "metadata": {},
   "outputs": [],
   "source": [
    "data2023 = panda.read_csv(\"matches2023-24.csv\")"
   ]
  },
  {
   "cell_type": "code",
   "execution_count": 10,
   "id": "7dfc4ed1",
   "metadata": {},
   "outputs": [],
   "source": [
    "totalData = panda.concat([data2022, data2023])"
   ]
  },
  {
   "cell_type": "code",
   "execution_count": 11,
   "id": "2238d407",
   "metadata": {},
   "outputs": [],
   "source": [
    "totalData.to_csv(\"totalMatches.csv\")"
   ]
  }
 ],
 "metadata": {
  "kernelspec": {
   "display_name": "Python 3 (ipykernel)",
   "language": "python",
   "name": "python3"
  },
  "language_info": {
   "codemirror_mode": {
    "name": "ipython",
    "version": 3
   },
   "file_extension": ".py",
   "mimetype": "text/x-python",
   "name": "python",
   "nbconvert_exporter": "python",
   "pygments_lexer": "ipython3",
   "version": "3.11.4"
  }
 },
 "nbformat": 4,
 "nbformat_minor": 5
}
